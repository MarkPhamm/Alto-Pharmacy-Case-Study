{
 "cells": [
  {
   "cell_type": "code",
   "execution_count": 1,
   "metadata": {},
   "outputs": [],
   "source": [
    "# Import libraries\n",
    "import pandas as pd\n",
    "import sys\n",
    "import os"
   ]
  },
  {
   "cell_type": "code",
   "execution_count": 2,
   "metadata": {},
   "outputs": [],
   "source": [
    "# Get the current working directory\n",
    "current_dir = os.getcwd()\n",
    "# Move up one level from the current directory\n",
    "parent_dir = os.path.dirname(current_dir)\n",
    "# Change directory into data directory\n",
    "data_dir = os.path.join(parent_dir, 'data')"
   ]
  },
  {
   "cell_type": "code",
   "execution_count": 3,
   "metadata": {},
   "outputs": [],
   "source": [
    "sys.path.append(parent_dir)"
   ]
  },
  {
   "cell_type": "markdown",
   "metadata": {},
   "source": [
    "# 1. Extract"
   ]
  },
  {
   "cell_type": "code",
   "execution_count": 4,
   "metadata": {},
   "outputs": [],
   "source": [
    "df_checkout_attempts = pd.read_csv(os.path.join(data_dir, 'checkout_attempts.csv'), index_col=None)\n",
    "df_order_status = pd.read_csv(os.path.join(data_dir, 'order_status.csv'), index_col=None)"
   ]
  },
  {
   "cell_type": "code",
   "execution_count": 5,
   "metadata": {},
   "outputs": [
    {
     "data": {
      "text/html": [
       "<div>\n",
       "<style scoped>\n",
       "    .dataframe tbody tr th:only-of-type {\n",
       "        vertical-align: middle;\n",
       "    }\n",
       "\n",
       "    .dataframe tbody tr th {\n",
       "        vertical-align: top;\n",
       "    }\n",
       "\n",
       "    .dataframe thead th {\n",
       "        text-align: right;\n",
       "    }\n",
       "</style>\n",
       "<table border=\"1\" class=\"dataframe\">\n",
       "  <thead>\n",
       "    <tr style=\"text-align: right;\">\n",
       "      <th></th>\n",
       "      <th>customer_id</th>\n",
       "      <th>checkout_started_at</th>\n",
       "      <th>checkout_completed_at</th>\n",
       "      <th>order_id</th>\n",
       "      <th>customer_added_non_med_to_order</th>\n",
       "      <th>order_total_dollars</th>\n",
       "    </tr>\n",
       "  </thead>\n",
       "  <tbody>\n",
       "    <tr>\n",
       "      <th>0</th>\n",
       "      <td>1177.0</td>\n",
       "      <td>2023-11-01 06:45:18.000</td>\n",
       "      <td>NaN</td>\n",
       "      <td>NaN</td>\n",
       "      <td>NaN</td>\n",
       "      <td>NaN</td>\n",
       "    </tr>\n",
       "    <tr>\n",
       "      <th>1</th>\n",
       "      <td>6119.0</td>\n",
       "      <td>2023-11-01 06:47:35.000</td>\n",
       "      <td>NaN</td>\n",
       "      <td>NaN</td>\n",
       "      <td>NaN</td>\n",
       "      <td>NaN</td>\n",
       "    </tr>\n",
       "    <tr>\n",
       "      <th>2</th>\n",
       "      <td>8389.0</td>\n",
       "      <td>2023-11-01 06:50:25.000</td>\n",
       "      <td>2023-11-01 07:05:16.000</td>\n",
       "      <td>10000.0</td>\n",
       "      <td>False</td>\n",
       "      <td>11.75</td>\n",
       "    </tr>\n",
       "    <tr>\n",
       "      <th>3</th>\n",
       "      <td>6811.0</td>\n",
       "      <td>2023-11-01 06:55:26.000</td>\n",
       "      <td>2023-11-01 06:59:06.000</td>\n",
       "      <td>10001.0</td>\n",
       "      <td>False</td>\n",
       "      <td>19.83</td>\n",
       "    </tr>\n",
       "    <tr>\n",
       "      <th>4</th>\n",
       "      <td>9441.0</td>\n",
       "      <td>2023-11-01 06:59:34.000</td>\n",
       "      <td>2023-11-01 07:06:17.000</td>\n",
       "      <td>10002.0</td>\n",
       "      <td>False</td>\n",
       "      <td>21.59</td>\n",
       "    </tr>\n",
       "  </tbody>\n",
       "</table>\n",
       "</div>"
      ],
      "text/plain": [
       "   customer_id      checkout_started_at    checkout_completed_at  order_id  \\\n",
       "0       1177.0  2023-11-01 06:45:18.000                      NaN       NaN   \n",
       "1       6119.0  2023-11-01 06:47:35.000                      NaN       NaN   \n",
       "2       8389.0  2023-11-01 06:50:25.000  2023-11-01 07:05:16.000   10000.0   \n",
       "3       6811.0  2023-11-01 06:55:26.000  2023-11-01 06:59:06.000   10001.0   \n",
       "4       9441.0  2023-11-01 06:59:34.000  2023-11-01 07:06:17.000   10002.0   \n",
       "\n",
       "  customer_added_non_med_to_order  order_total_dollars  \n",
       "0                             NaN                  NaN  \n",
       "1                             NaN                  NaN  \n",
       "2                           False                11.75  \n",
       "3                           False                19.83  \n",
       "4                           False                21.59  "
      ]
     },
     "execution_count": 5,
     "metadata": {},
     "output_type": "execute_result"
    }
   ],
   "source": [
    "df_checkout_attempts.head()"
   ]
  },
  {
   "cell_type": "code",
   "execution_count": 6,
   "metadata": {},
   "outputs": [
    {
     "data": {
      "text/html": [
       "<div>\n",
       "<style scoped>\n",
       "    .dataframe tbody tr th:only-of-type {\n",
       "        vertical-align: middle;\n",
       "    }\n",
       "\n",
       "    .dataframe tbody tr th {\n",
       "        vertical-align: top;\n",
       "    }\n",
       "\n",
       "    .dataframe thead th {\n",
       "        text-align: right;\n",
       "    }\n",
       "</style>\n",
       "<table border=\"1\" class=\"dataframe\">\n",
       "  <thead>\n",
       "    <tr style=\"text-align: right;\">\n",
       "      <th></th>\n",
       "      <th>order_id</th>\n",
       "      <th>customer_id</th>\n",
       "      <th>delivery_status</th>\n",
       "      <th>delivered_date</th>\n",
       "    </tr>\n",
       "  </thead>\n",
       "  <tbody>\n",
       "    <tr>\n",
       "      <th>0</th>\n",
       "      <td>10000.0</td>\n",
       "      <td>8389.0</td>\n",
       "      <td>delivered</td>\n",
       "      <td>2023-11-04 00:00:00.000</td>\n",
       "    </tr>\n",
       "    <tr>\n",
       "      <th>1</th>\n",
       "      <td>10001.0</td>\n",
       "      <td>6811.0</td>\n",
       "      <td>delivered</td>\n",
       "      <td>2023-11-02 00:00:00.000</td>\n",
       "    </tr>\n",
       "    <tr>\n",
       "      <th>2</th>\n",
       "      <td>10002.0</td>\n",
       "      <td>9441.0</td>\n",
       "      <td>delivered</td>\n",
       "      <td>2023-11-03 00:00:00.000</td>\n",
       "    </tr>\n",
       "    <tr>\n",
       "      <th>3</th>\n",
       "      <td>10003.0</td>\n",
       "      <td>1125.0</td>\n",
       "      <td>delivered</td>\n",
       "      <td>2023-11-03 00:00:00.000</td>\n",
       "    </tr>\n",
       "    <tr>\n",
       "      <th>4</th>\n",
       "      <td>10004.0</td>\n",
       "      <td>7838.0</td>\n",
       "      <td>delivered</td>\n",
       "      <td>2023-11-02 00:00:00.000</td>\n",
       "    </tr>\n",
       "  </tbody>\n",
       "</table>\n",
       "</div>"
      ],
      "text/plain": [
       "   order_id  customer_id delivery_status           delivered_date\n",
       "0   10000.0       8389.0       delivered  2023-11-04 00:00:00.000\n",
       "1   10001.0       6811.0       delivered  2023-11-02 00:00:00.000\n",
       "2   10002.0       9441.0       delivered  2023-11-03 00:00:00.000\n",
       "3   10003.0       1125.0       delivered  2023-11-03 00:00:00.000\n",
       "4   10004.0       7838.0       delivered  2023-11-02 00:00:00.000"
      ]
     },
     "execution_count": 6,
     "metadata": {},
     "output_type": "execute_result"
    }
   ],
   "source": [
    "df_order_status.head()"
   ]
  },
  {
   "cell_type": "markdown",
   "metadata": {},
   "source": [
    "# Transform"
   ]
  },
  {
   "cell_type": "code",
   "execution_count": 7,
   "metadata": {},
   "outputs": [
    {
     "data": {
      "text/plain": [
       "customer_id                        float64\n",
       "checkout_started_at                 object\n",
       "checkout_completed_at               object\n",
       "order_id                           float64\n",
       "customer_added_non_med_to_order     object\n",
       "order_total_dollars                float64\n",
       "dtype: object"
      ]
     },
     "execution_count": 7,
     "metadata": {},
     "output_type": "execute_result"
    }
   ],
   "source": [
    "df_checkout_attempts.dtypes"
   ]
  },
  {
   "cell_type": "code",
   "execution_count": 8,
   "metadata": {},
   "outputs": [],
   "source": [
    "df_checkout_attempts['customer_id'] = df_checkout_attempts['customer_id'].astype('Int64')\n",
    "df_checkout_attempts['checkout_started_at'] = pd.to_datetime(df_checkout_attempts['checkout_started_at'])\n",
    "df_checkout_attempts['checkout_completed_at'] = pd.to_datetime(df_checkout_attempts['checkout_completed_at'], errors='coerce')\n",
    "df_checkout_attempts['order_id'] = df_checkout_attempts['order_id'].astype('Int64')\n",
    "df_checkout_attempts['customer_added_non_med_to_order'] = df_checkout_attempts['customer_added_non_med_to_order'].astype('boolean')\n",
    "df_checkout_attempts['order_total_dollars'] = pd.to_numeric(df_checkout_attempts['order_total_dollars'], errors='coerce')"
   ]
  },
  {
   "cell_type": "code",
   "execution_count": 9,
   "metadata": {},
   "outputs": [
    {
     "data": {
      "text/plain": [
       "customer_id                                 Int64\n",
       "checkout_started_at                datetime64[ns]\n",
       "checkout_completed_at              datetime64[ns]\n",
       "order_id                                    Int64\n",
       "customer_added_non_med_to_order           boolean\n",
       "order_total_dollars                       float64\n",
       "dtype: object"
      ]
     },
     "execution_count": 9,
     "metadata": {},
     "output_type": "execute_result"
    }
   ],
   "source": [
    "df_checkout_attempts.dtypes"
   ]
  },
  {
   "cell_type": "code",
   "execution_count": 10,
   "metadata": {},
   "outputs": [
    {
     "data": {
      "text/plain": [
       "order_id           float64\n",
       "customer_id        float64\n",
       "delivery_status     object\n",
       "delivered_date      object\n",
       "dtype: object"
      ]
     },
     "execution_count": 10,
     "metadata": {},
     "output_type": "execute_result"
    }
   ],
   "source": [
    "df_order_status.dtypes"
   ]
  },
  {
   "cell_type": "code",
   "execution_count": 11,
   "metadata": {},
   "outputs": [],
   "source": [
    "df_order_status['order_id'] = df_order_status['order_id'].astype('Int64')\n",
    "df_order_status['customer_id'] = df_order_status['customer_id'].astype('Int64')\n",
    "df_order_status['delivery_status'] = df_order_status['delivery_status'].astype('category')\n",
    "df_order_status['delivered_date'] = pd.to_datetime(df_order_status['delivered_date'])"
   ]
  },
  {
   "cell_type": "markdown",
   "metadata": {},
   "source": [
    "# 3.Load"
   ]
  },
  {
   "cell_type": "code",
   "execution_count": 12,
   "metadata": {},
   "outputs": [],
   "source": [
    "import pyodbc\n",
    "import db_config as cfg"
   ]
  },
  {
   "cell_type": "code",
   "execution_count": 13,
   "metadata": {},
   "outputs": [
    {
     "name": "stdout",
     "output_type": "stream",
     "text": [
      "ALTO_PHARMACY\n"
     ]
    }
   ],
   "source": [
    "print(cfg.DATABASE_NAME)"
   ]
  },
  {
   "cell_type": "code",
   "execution_count": 14,
   "metadata": {},
   "outputs": [],
   "source": [
    "# Test out connection\n",
    "conn_str = pyodbc.connect(\n",
    "    'DRIVER={SQL Server};'\n",
    "    F'SERVER={cfg.SERVER_NAME};'\n",
    "    F'DATABASE={cfg.DATABASE_NAME};'\n",
    "    'Trusted_Connection=yes;'\n",
    ")"
   ]
  },
  {
   "cell_type": "code",
   "execution_count": 15,
   "metadata": {},
   "outputs": [],
   "source": [
    "def get_column_types(df):\n",
    "    # Map Pandas data types to SQL Server data types\n",
    "    type_map = {\n",
    "        'object': 'NVARCHAR(MAX)',\n",
    "        'int64': 'BIGINT',\n",
    "        'float64': 'FLOAT',\n",
    "        'datetime64[ns]': 'DATETIME2',\n",
    "        'bool': 'BIT'\n",
    "    }\n",
    "    return [type_map.get(str(dt), 'NVARCHAR(MAX)') for dt in df.dtypes]"
   ]
  },
  {
   "cell_type": "code",
   "execution_count": 16,
   "metadata": {},
   "outputs": [],
   "source": [
    "def load_table(df, table_name, schema_name):\n",
    "    # Define the connection string\n",
    "    conn_str = (\n",
    "        f'DRIVER={{SQL Server}};'\n",
    "        f'SERVER={cfg.SERVER_NAME};'\n",
    "        f'DATABASE={cfg.DATABASE_NAME};'\n",
    "        'Trusted_Connection=yes;'\n",
    "    )\n",
    "\n",
    "    # Create a pyodbc connection using the connection string\n",
    "    conn = pyodbc.connect(conn_str)\n",
    "    cursor = conn.cursor()\n",
    "\n",
    "    # Drop the table if it already exists\n",
    "    cursor.execute(f\"IF OBJECT_ID('{schema_name}.{table_name}', 'U') IS NOT NULL DROP TABLE {schema_name}.{table_name}\")\n",
    "    conn.commit()\n",
    "\n",
    "    # Create the table schema\n",
    "    columns = ', '.join([f'{col} {dtype}' for col, dtype in zip(df.columns, get_column_types(df))])\n",
    "    create_table_sql = f\"CREATE TABLE {schema_name}.{table_name} ({columns})\"\n",
    "    cursor.execute(create_table_sql)\n",
    "    conn.commit()\n",
    "\n",
    "    # Insert the data into the table\n",
    "    insert_sql = f\"INSERT INTO {schema_name}.{table_name} VALUES ({','.join(['?'] * len(df.columns))})\"\n",
    "    for _, row in df.iterrows():\n",
    "        # Convert NaT in datetime columns to None to keep null values in SQL Server\n",
    "        row = [None if pd.isnull(x) else x for x in row.tolist()]\n",
    "        cursor.execute(insert_sql, *row)\n",
    "    conn.commit()\n",
    "\n",
    "    cursor.close()\n",
    "    conn.close()\n",
    "    print(f\"DataFrame loaded successfully into {schema_name}.{table_name}\")"
   ]
  },
  {
   "cell_type": "code",
   "execution_count": 17,
   "metadata": {},
   "outputs": [
    {
     "data": {
      "text/html": [
       "<div>\n",
       "<style scoped>\n",
       "    .dataframe tbody tr th:only-of-type {\n",
       "        vertical-align: middle;\n",
       "    }\n",
       "\n",
       "    .dataframe tbody tr th {\n",
       "        vertical-align: top;\n",
       "    }\n",
       "\n",
       "    .dataframe thead th {\n",
       "        text-align: right;\n",
       "    }\n",
       "</style>\n",
       "<table border=\"1\" class=\"dataframe\">\n",
       "  <thead>\n",
       "    <tr style=\"text-align: right;\">\n",
       "      <th></th>\n",
       "      <th>order_id</th>\n",
       "      <th>customer_id</th>\n",
       "      <th>delivery_status</th>\n",
       "      <th>delivered_date</th>\n",
       "    </tr>\n",
       "  </thead>\n",
       "  <tbody>\n",
       "    <tr>\n",
       "      <th>0</th>\n",
       "      <td>10000</td>\n",
       "      <td>8389</td>\n",
       "      <td>delivered</td>\n",
       "      <td>2023-11-04</td>\n",
       "    </tr>\n",
       "    <tr>\n",
       "      <th>1</th>\n",
       "      <td>10001</td>\n",
       "      <td>6811</td>\n",
       "      <td>delivered</td>\n",
       "      <td>2023-11-02</td>\n",
       "    </tr>\n",
       "    <tr>\n",
       "      <th>2</th>\n",
       "      <td>10002</td>\n",
       "      <td>9441</td>\n",
       "      <td>delivered</td>\n",
       "      <td>2023-11-03</td>\n",
       "    </tr>\n",
       "    <tr>\n",
       "      <th>3</th>\n",
       "      <td>10003</td>\n",
       "      <td>1125</td>\n",
       "      <td>delivered</td>\n",
       "      <td>2023-11-03</td>\n",
       "    </tr>\n",
       "    <tr>\n",
       "      <th>4</th>\n",
       "      <td>10004</td>\n",
       "      <td>7838</td>\n",
       "      <td>delivered</td>\n",
       "      <td>2023-11-02</td>\n",
       "    </tr>\n",
       "    <tr>\n",
       "      <th>...</th>\n",
       "      <td>...</td>\n",
       "      <td>...</td>\n",
       "      <td>...</td>\n",
       "      <td>...</td>\n",
       "    </tr>\n",
       "    <tr>\n",
       "      <th>7151</th>\n",
       "      <td>17151</td>\n",
       "      <td>8227</td>\n",
       "      <td>pending</td>\n",
       "      <td>NaT</td>\n",
       "    </tr>\n",
       "    <tr>\n",
       "      <th>7152</th>\n",
       "      <td>17152</td>\n",
       "      <td>4970</td>\n",
       "      <td>delivered</td>\n",
       "      <td>2024-01-22</td>\n",
       "    </tr>\n",
       "    <tr>\n",
       "      <th>7153</th>\n",
       "      <td>17153</td>\n",
       "      <td>8579</td>\n",
       "      <td>delivered</td>\n",
       "      <td>2024-01-22</td>\n",
       "    </tr>\n",
       "    <tr>\n",
       "      <th>7154</th>\n",
       "      <td>17154</td>\n",
       "      <td>6265</td>\n",
       "      <td>delivered</td>\n",
       "      <td>2024-01-22</td>\n",
       "    </tr>\n",
       "    <tr>\n",
       "      <th>7155</th>\n",
       "      <td>17155</td>\n",
       "      <td>9973</td>\n",
       "      <td>delivered</td>\n",
       "      <td>2024-01-22</td>\n",
       "    </tr>\n",
       "  </tbody>\n",
       "</table>\n",
       "<p>7156 rows × 4 columns</p>\n",
       "</div>"
      ],
      "text/plain": [
       "      order_id  customer_id delivery_status delivered_date\n",
       "0        10000         8389       delivered     2023-11-04\n",
       "1        10001         6811       delivered     2023-11-02\n",
       "2        10002         9441       delivered     2023-11-03\n",
       "3        10003         1125       delivered     2023-11-03\n",
       "4        10004         7838       delivered     2023-11-02\n",
       "...        ...          ...             ...            ...\n",
       "7151     17151         8227         pending            NaT\n",
       "7152     17152         4970       delivered     2024-01-22\n",
       "7153     17153         8579       delivered     2024-01-22\n",
       "7154     17154         6265       delivered     2024-01-22\n",
       "7155     17155         9973       delivered     2024-01-22\n",
       "\n",
       "[7156 rows x 4 columns]"
      ]
     },
     "execution_count": 17,
     "metadata": {},
     "output_type": "execute_result"
    }
   ],
   "source": [
    "df_order_status"
   ]
  },
  {
   "cell_type": "code",
   "execution_count": 18,
   "metadata": {},
   "outputs": [
    {
     "name": "stdout",
     "output_type": "stream",
     "text": [
      "DataFrame loaded successfully into modealto.order_status\n"
     ]
    }
   ],
   "source": [
    "load_table(df_order_status, 'order_status', 'modealto')"
   ]
  },
  {
   "cell_type": "code",
   "execution_count": 19,
   "metadata": {},
   "outputs": [
    {
     "name": "stdout",
     "output_type": "stream",
     "text": [
      "DataFrame loaded successfully into modealto.checkout_attempts\n"
     ]
    }
   ],
   "source": [
    "load_table(df_checkout_attempts, 'checkout_attempts', 'modealto')"
   ]
  }
 ],
 "metadata": {
  "kernelspec": {
   "display_name": ".venv",
   "language": "python",
   "name": "python3"
  },
  "language_info": {
   "codemirror_mode": {
    "name": "ipython",
    "version": 3
   },
   "file_extension": ".py",
   "mimetype": "text/x-python",
   "name": "python",
   "nbconvert_exporter": "python",
   "pygments_lexer": "ipython3",
   "version": "3.12.6"
  }
 },
 "nbformat": 4,
 "nbformat_minor": 2
}
