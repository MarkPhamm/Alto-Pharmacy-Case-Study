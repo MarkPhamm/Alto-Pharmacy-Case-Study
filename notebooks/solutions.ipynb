{
 "cells": [
  {
   "cell_type": "code",
   "execution_count": 1,
   "metadata": {},
   "outputs": [],
   "source": [
    "%load_ext magic_duckdb"
   ]
  },
  {
   "cell_type": "code",
   "execution_count": 2,
   "metadata": {},
   "outputs": [
    {
     "data": {
      "text/html": [
       "<div>\n",
       "<style scoped>\n",
       "    .dataframe tbody tr th:only-of-type {\n",
       "        vertical-align: middle;\n",
       "    }\n",
       "\n",
       "    .dataframe tbody tr th {\n",
       "        vertical-align: top;\n",
       "    }\n",
       "\n",
       "    .dataframe thead th {\n",
       "        text-align: right;\n",
       "    }\n",
       "</style>\n",
       "<table border=\"1\" class=\"dataframe\">\n",
       "  <thead>\n",
       "    <tr style=\"text-align: right;\">\n",
       "      <th></th>\n",
       "      <th>Success</th>\n",
       "    </tr>\n",
       "  </thead>\n",
       "  <tbody>\n",
       "  </tbody>\n",
       "</table>\n",
       "</div>"
      ],
      "text/plain": [
       "Empty DataFrame\n",
       "Columns: [Success]\n",
       "Index: []"
      ]
     },
     "execution_count": 2,
     "metadata": {},
     "output_type": "execute_result"
    }
   ],
   "source": [
    "%%dql -t df\n",
    "INSTALL httpfs;"
   ]
  },
  {
   "cell_type": "code",
   "execution_count": 3,
   "metadata": {},
   "outputs": [
    {
     "data": {
      "text/html": [
       "<div>\n",
       "<style scoped>\n",
       "    .dataframe tbody tr th:only-of-type {\n",
       "        vertical-align: middle;\n",
       "    }\n",
       "\n",
       "    .dataframe tbody tr th {\n",
       "        vertical-align: top;\n",
       "    }\n",
       "\n",
       "    .dataframe thead th {\n",
       "        text-align: right;\n",
       "    }\n",
       "</style>\n",
       "<table border=\"1\" class=\"dataframe\">\n",
       "  <thead>\n",
       "    <tr style=\"text-align: right;\">\n",
       "      <th></th>\n",
       "      <th>Success</th>\n",
       "    </tr>\n",
       "  </thead>\n",
       "  <tbody>\n",
       "  </tbody>\n",
       "</table>\n",
       "</div>"
      ],
      "text/plain": [
       "Empty DataFrame\n",
       "Columns: [Success]\n",
       "Index: []"
      ]
     },
     "execution_count": 3,
     "metadata": {},
     "output_type": "execute_result"
    }
   ],
   "source": [
    "%%dql -t df\n",
    "LOAD  httpfs;"
   ]
  },
  {
   "cell_type": "markdown",
   "metadata": {},
   "source": [
    "# Data Check"
   ]
  },
  {
   "cell_type": "code",
   "execution_count": null,
   "metadata": {},
   "outputs": [],
   "source": [
    "%%dql -t df\n",
    "--  Check the tables\n",
    "SELECT * FROM modealto.order_status\n",
    "ORDER BY delivered_date DESC\n",
    "LIMIT 5;\n",
    "\n",
    "SELECT * FROM modealto.checkout_attempts\n",
    "ORDER BY checkout_completed_at DESC\n",
    "LIMIT 5;"
   ]
  },
  {
   "cell_type": "markdown",
   "metadata": {},
   "source": [
    "# Non-Medication Items Add-to-Cart Rate\n"
   ]
  },
  {
   "cell_type": "code",
   "execution_count": null,
   "metadata": {},
   "outputs": [],
   "source": [
    "%%dql -t df\n",
    "SELECT \n",
    "  (COUNT(case when customer_added_non_med_to_order = TRUE THEN 1 else NULL END)+0.0)/COUNT(*)*100 as non_med_added_rate\n",
    "FROM \n",
    "  modealto.checkout_attempts\n",
    "WHERE \n",
    "  checkout_completed_at IS NOT NULL;"
   ]
  },
  {
   "cell_type": "code",
   "execution_count": null,
   "metadata": {},
   "outputs": [],
   "source": [
    "%%dql -t df\n",
    "SELECT \n",
    "  EXTRACT(YEAR FROM checkout_started_at) as check_out_year, \n",
    "  EXTRACT(MONTH FROM checkout_started_at) as check_out_month,\n",
    "  (COUNT(case when customer_added_non_med_to_order = TRUE THEN 1 else NULL END)+0.0)/COUNT(*)*100 as non_med_added_rate\n",
    "FROM \n",
    "  modealto.checkout_attempts\n",
    "WHERE \n",
    "  checkout_completed_at IS NOT NULL\n",
    "GROUP BY \n",
    "  EXTRACT(YEAR FROM checkout_started_at), \n",
    "  EXTRACT(MONTH FROM checkout_started_at)\n",
    "ORDER BY \n",
    "  EXTRACT(YEAR FROM checkout_started_at), \n",
    "  EXTRACT(MONTH FROM checkout_started_at)"
   ]
  },
  {
   "cell_type": "markdown",
   "metadata": {},
   "source": []
  },
  {
   "cell_type": "code",
   "execution_count": null,
   "metadata": {},
   "outputs": [],
   "source": [
    "%%dql -t df\n",
    "SELECT \n",
    "    ROUND((COUNT(checkout_completed_at) + 0.0) / COUNT(*) * 100, 2) AS check_out_rate\n",
    "FROM \n",
    "    modealto.checkout_attempts;"
   ]
  },
  {
   "cell_type": "code",
   "execution_count": null,
   "metadata": {},
   "outputs": [],
   "source": [
    "%%dql -t df\n",
    "SELECT \n",
    "  EXTRACT(YEAR FROM checkout_started_at) as check_out_year, \n",
    "  EXTRACT(MONTH FROM checkout_started_at) as check_out_month,\n",
    "  ROUND((COUNT(checkout_completed_at)+0.0)/COUNT(*)*100,2) as check_out_rate\n",
    "FROM \n",
    "  modealto.checkout_attempts\n",
    "GROUP BY \n",
    "  EXTRACT(YEAR FROM checkout_started_at),\n",
    "  EXTRACT(MONTH FROM checkout_started_at) \n",
    "ORDER BY \n",
    "  EXTRACT(YEAR FROM checkout_started_at),\n",
    "  EXTRACT(MONTH FROM checkout_started_at) "
   ]
  },
  {
   "cell_type": "markdown",
   "metadata": {},
   "source": []
  },
  {
   "cell_type": "code",
   "execution_count": null,
   "metadata": {},
   "outputs": [],
   "source": [
    "%%dql -t df\n",
    "-- Delivery Rate\n",
    "SELECT \n",
    "    ROUND((COUNT(delivered_date)+0.0)/COUNT(*)*100,2) AS delivery_rate\n",
    "FROM \n",
    "  modealto.checkout_attempts ca\n",
    "JOIN \n",
    "  modealto.order_status os\n",
    "USING (order_id)"
   ]
  },
  {
   "cell_type": "code",
   "execution_count": null,
   "metadata": {},
   "outputs": [],
   "source": [
    "%%dql -t df\n",
    "-- Delivery Rate Break Down By Month\n",
    "SELECT \n",
    "  EXTRACT(YEAR FROM checkout_completed_at) as check_out_year, \n",
    "  EXTRACT(MONTH FROM checkout_completed_at) as check_out_month,\n",
    "  ROUND((COUNT(CASE WHEN delivery_status = 'delivered' THEN 1 ELSE NULL END)+0.0)/COUNT(*)*100,2) AS delivery_rate\n",
    "FROM \n",
    "  modealto.checkout_attempts ca\n",
    "JOIN \n",
    "  modealto.order_status os\n",
    "USING (order_id)\n",
    "GROUP BY \n",
    "  EXTRACT(YEAR FROM checkout_completed_at),\n",
    "  EXTRACT(MONTH FROM checkout_completed_at) \n",
    "ORDER BY \n",
    "  EXTRACT(YEAR FROM checkout_completed_at),\n",
    "  EXTRACT(MONTH FROM checkout_completed_at) "
   ]
  },
  {
   "cell_type": "markdown",
   "metadata": {},
   "source": []
  },
  {
   "cell_type": "code",
   "execution_count": null,
   "metadata": {},
   "outputs": [],
   "source": [
    "%%dql -t df\n",
    "SELECT  \n",
    "  AVG(CASE WHEN customer_added_non_med_to_order = TRUE THEN order_total_dollars ELSE NULL END) as non_med_added_avg_order_value,\n",
    "  AVG(CASE WHEN customer_added_non_med_to_order = FALSE THEN order_total_dollars ELSE NULL END) as non_med_not_added_avg_order_value\n",
    "FROM \n",
    "  modealto.checkout_attempts ca\n",
    "JOIN \n",
    "  modealto.order_status os\n",
    "USING(order_id)\n",
    "WHERE\n",
    "  delivery_status = 'delivered';"
   ]
  },
  {
   "cell_type": "markdown",
   "metadata": {},
   "source": [
    "# Revenue and Number of Orders"
   ]
  },
  {
   "cell_type": "code",
   "execution_count": null,
   "metadata": {},
   "outputs": [],
   "source": [
    "%%dql -t df\n",
    "SELECT  \n",
    "  EXTRACT(YEAR FROM checkout_completed_at) as check_out_year, \n",
    "  EXTRACT(MONTH FROM checkout_completed_at) as check_out_month,\n",
    "  SUM(order_total_dollars) as Revenue, \n",
    "  COUNT(*) as Number_of_Order\n",
    "FROM \n",
    "  modealto.checkout_attempts ca\n",
    "JOIN \n",
    "  modealto.order_status os\n",
    "USING(order_id)\n",
    "WHERE\n",
    "  delivery_status = 'delivered'\n",
    "GROUP BY \n",
    "  EXTRACT(YEAR FROM checkout_completed_at),\n",
    "  EXTRACT(MONTH FROM checkout_completed_at) \n",
    "ORDER BY \n",
    "  EXTRACT(YEAR FROM checkout_completed_at),\n",
    "  EXTRACT(MONTH FROM checkout_completed_at) "
   ]
  }
 ],
 "metadata": {
  "kernelspec": {
   "display_name": ".venv",
   "language": "python",
   "name": "python3"
  },
  "language_info": {
   "codemirror_mode": {
    "name": "ipython",
    "version": 3
   },
   "file_extension": ".py",
   "mimetype": "text/x-python",
   "name": "python",
   "nbconvert_exporter": "python",
   "pygments_lexer": "ipython3",
   "version": "3.12.6"
  }
 },
 "nbformat": 4,
 "nbformat_minor": 2
}
